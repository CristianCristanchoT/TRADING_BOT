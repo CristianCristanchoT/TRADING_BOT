{
 "cells": [
  {
   "cell_type": "code",
   "execution_count": 2,
   "metadata": {},
   "outputs": [],
   "source": [
    "import numpy as np\n",
    "import pandas as pd\n",
    "\n",
    "from tensorflow.keras.models import Model\n",
    "from tensorflow.keras.layers import Dense, Input\n",
    "from tensorflow.keras.optimizers import Adam\n",
    "\n",
    "from datetime import datetime\n",
    "import itertools\n",
    "import argparse\n",
    "import re\n",
    "import os\n",
    "import pickle\n",
    "\n",
    "from sklearn.preprocessing import StandardScaler"
   ]
  },
  {
   "cell_type": "code",
   "execution_count": 6,
   "metadata": {},
   "outputs": [],
   "source": [
    "def get_data():\n",
    "  df = pd.read_csv('aapl_msi_sbux.csv')\n",
    "  return df.values"
   ]
  },
  {
   "cell_type": "code",
   "execution_count": 7,
   "metadata": {},
   "outputs": [],
   "source": [
    "class ReplayBuffer:\n",
    "  def __init__(self, obs_dim, act_dim, size):\n",
    "    self.obs1_buf = np.zeros([size, obs_dim], dtype=np.float32)\n",
    "    self.obs2_buf = np.zeros([size, obs_dim], dtype=np.float32)\n",
    "    self.acts_buf = np.zeros(size, dtype=np.uint8)\n",
    "    self.rews_buf = np.zeros(size, dtype=np.float32)\n",
    "    self.done_buf = np.zeros(size, dtype=np.uint8)\n",
    "    self.ptr, self.size, self.max_size = 0, 0, size\n",
    "\n",
    "  def store(self, obs, act, rew, next_obs, done):\n",
    "    self.obs1_buf[self.ptr] = obs\n",
    "    self.obs2_buf[self.ptr] = next_obs\n",
    "    self.acts_buf[self.ptr] = act\n",
    "    self.rews_buf[self.ptr] = rew\n",
    "    self.done_buf[self.ptr] = done\n",
    "    self.ptr = (self.ptr+1) % self.max_size\n",
    "    self.size = min(self.size+1, self.max_size)\n",
    "\n",
    "  def sample_batch(self, batch_size=32):\n",
    "    idxs = np.random.randint(0, self.size, size=batch_size)\n",
    "    return dict(s=self.obs1_buf[idxs],\n",
    "                s2=self.obs2_buf[idxs],\n",
    "                a=self.acts_buf[idxs],\n",
    "                r=self.rews_buf[idxs],\n",
    "                d=self.done_buf[idxs])\n"
   ]
  },
  {
   "cell_type": "code",
   "execution_count": 8,
   "metadata": {},
   "outputs": [],
   "source": [
    "\n",
    "def get_scaler(env):\n",
    "  # return scikit-learn scaler object to scale the states\n",
    "  # Note: you could also populate the replay buffer here\n",
    "\n",
    "  states = []\n",
    "  for _ in range(env.n_step):\n",
    "    action = np.random.choice(env.action_space)\n",
    "    state, reward, done, info = env.step(action)\n",
    "    states.append(state)\n",
    "    if done:\n",
    "      break\n",
    "\n",
    "  scaler = StandardScaler()\n",
    "  scaler.fit(states)\n",
    "  return scaler\n",
    "\n",
    "\n",
    "\n",
    "\n",
    "def maybe_make_dir(directory):\n",
    "  if not os.path.exists(directory):\n",
    "    os.makedirs(directory)\n",
    "\n",
    "\n",
    "\n",
    "\n",
    "def mlp(input_dim, n_action, n_hidden_layers=1, hidden_dim=32):\n",
    "  \"\"\" A multi-layer perceptron \"\"\"\n",
    "\n",
    "  # input layer\n",
    "  i = Input(shape=(input_dim,))\n",
    "  x = i\n",
    "\n",
    "  # hidden layers\n",
    "  for _ in range(n_hidden_layers):\n",
    "    x = Dense(hidden_dim, activation='relu')(x)\n",
    "  \n",
    "  # final layer\n",
    "  x = Dense(n_action)(x)\n",
    "\n",
    "  # make the model\n",
    "  model = Model(i, x)\n",
    "\n",
    "  model.compile(loss='mse', optimizer='adam')\n",
    "  print((model.summary()))\n",
    "  return model\n"
   ]
  },
  {
   "cell_type": "code",
   "execution_count": null,
   "metadata": {},
   "outputs": [],
   "source": []
  }
 ],
 "metadata": {
  "kernelspec": {
   "display_name": "Python 3",
   "language": "python",
   "name": "python3"
  },
  "language_info": {
   "codemirror_mode": {
    "name": "ipython",
    "version": 3
   },
   "file_extension": ".py",
   "mimetype": "text/x-python",
   "name": "python",
   "nbconvert_exporter": "python",
   "pygments_lexer": "ipython3",
   "version": "3.7.5"
  }
 },
 "nbformat": 4,
 "nbformat_minor": 2
}
